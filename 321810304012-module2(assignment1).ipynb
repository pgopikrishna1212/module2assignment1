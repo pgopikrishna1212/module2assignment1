{
 "cells": [
  {
   "cell_type": "code",
   "execution_count": 1,
   "metadata": {},
   "outputs": [
    {
     "name": "stdout",
     "output_type": "stream",
     "text": [
      "Enter the first number: 7\n",
      "Enter the second number: 7\n",
      "Both inputs are equal\n"
     ]
    }
   ],
   "source": [
    "a = input(\"Enter the first number: \")\n",
    "b = input(\"Enter the second number: \")\n",
    "if a == b:\n",
    "  print (\"Both inputs are equal\")\n",
    "else:\n",
    "  print (\"Your input is not equal.\")"
   ]
  },
  {
   "cell_type": "code",
   "execution_count": 2,
   "metadata": {},
   "outputs": [
    {
     "name": "stdout",
     "output_type": "stream",
     "text": [
      "first number2\n",
      "second number2\n",
      "third number3\n",
      "All are equal: False\n",
      "Any of two are equal: True\n"
     ]
    }
   ],
   "source": [
    "first = input(\"first number\")\n",
    "second = input(\"second number\")\n",
    "third = input(\"third number\")\n",
    "all = first == second and second == third and third == first\n",
    "print (\"All are equal:\",all)\n",
    "any = first == second or second == third or third == first\n",
    "print (\"Any of two are equal:\",any)\n"
   ]
  },
  {
   "cell_type": "code",
   "execution_count": 4,
   "metadata": {},
   "outputs": [
    {
     "name": "stdout",
     "output_type": "stream",
     "text": [
      "Enter first number3\n",
      "Enter second number3\n",
      "Sum is greater than 5: True\n",
      "Sum is equal to 5: False\n",
      "Sum is lesser than 5: False\n"
     ]
    }
   ],
   "source": [
    "first = int(input(\"Enter first number\"))\n",
    "second =int(input(\"Enter second number\"))\n",
    "sum = first+second\n",
    "print (\"Sum is greater than 5:\",sum>5)\n",
    "print (\"Sum is equal to 5:\",sum==5)\n",
    "print (\"Sum is lesser than 5:\",sum<5)"
   ]
  },
  {
   "cell_type": "code",
   "execution_count": 6,
   "metadata": {},
   "outputs": [
    {
     "name": "stdout",
     "output_type": "stream",
     "text": [
      "55\n",
      "Marks is greater than passing marks: True\n"
     ]
    }
   ],
   "source": [
    "pm = 35\n",
    "marks = int(input())\n",
    "print (\"Marks is greater than passing marks:\", marks>pm)"
   ]
  },
  {
   "cell_type": "code",
   "execution_count": 9,
   "metadata": {},
   "outputs": [],
   "source": [
    "num1 = 10\n",
    "num2 = 14\n",
    "num3 = 12\n",
    "if (num1 >= num2) and (num1 >= num3):\n",
    "   largest = num1\n",
    "elif (num2 >= num1) and (num2 >= num3):\n",
    "   largest = num2\n",
    "else:\n",
    "   largest = num3"
   ]
  },
  {
   "cell_type": "code",
   "execution_count": null,
   "metadata": {},
   "outputs": [],
   "source": []
  }
 ],
 "metadata": {
  "kernelspec": {
   "display_name": "Python 3",
   "language": "python",
   "name": "python3"
  },
  "language_info": {
   "codemirror_mode": {
    "name": "ipython",
    "version": 3
   },
   "file_extension": ".py",
   "mimetype": "text/x-python",
   "name": "python",
   "nbconvert_exporter": "python",
   "pygments_lexer": "ipython3",
   "version": "3.7.6"
  }
 },
 "nbformat": 4,
 "nbformat_minor": 4
}
